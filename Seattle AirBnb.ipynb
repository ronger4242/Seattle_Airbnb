{
 "cells": [
  {
   "cell_type": "markdown",
   "metadata": {},
   "source": [
    "# Import libaries and read the listing table"
   ]
  },
  {
   "cell_type": "code",
   "execution_count": null,
   "metadata": {},
   "outputs": [],
   "source": [
    "import numpy as np\n",
    "import pandas as pd\n",
    "from datetime import datetime\n",
    "import matplotlib.pyplot as plt\n",
    "%matplotlib inline\n",
    "import seaborn as sns\n",
    "df = pd.read_csv('C:/Users/Nancy Zhao/Desktop/Nano degrees/Data science/CRISP-DM/data science blog post/listings.csv')\n",
    "df = df[['id', 'host_response_rate', 'neighbourhood_cleansed', 'property_type', 'room_type', 'price', 'weekly_price', 'monthly_price', 'review_scores_rating', 'review_scores_location','cancellation_policy']]\n",
    "df.head()"
   ]
  },
  {
   "cell_type": "code",
   "execution_count": null,
   "metadata": {},
   "outputs": [],
   "source": [
    "# check dtypes for the variables and see whether a conversion is needed.\n",
    "df.info()"
   ]
  },
  {
   "cell_type": "markdown",
   "metadata": {},
   "source": [
    "# Data preparation for the listings table: Convert data to appropriate dtype"
   ]
  },
  {
   "cell_type": "code",
   "execution_count": null,
   "metadata": {},
   "outputs": [],
   "source": [
    "df['host_response_rate_val'] = df['host_response_rate'].str.rstrip('%').astype(float)/100\n",
    "df['price_val'] = df['price'].str.lstrip('$').str.replace(',', '').astype(float)\n",
    "df['weekly_price_val'] = df['weekly_price'].str.lstrip('$').str.replace(',', '').astype(float)"
   ]
  },
  {
   "cell_type": "code",
   "execution_count": null,
   "metadata": {},
   "outputs": [],
   "source": [
    "df.head()"
   ]
  },
  {
   "cell_type": "markdown",
   "metadata": {},
   "source": [
    "# Data Analysis"
   ]
  },
  {
   "cell_type": "markdown",
   "metadata": {},
   "source": [
    "## Question 1: Number of Airbnb properties by neighborhood"
   ]
  },
  {
   "cell_type": "code",
   "execution_count": null,
   "metadata": {},
   "outputs": [],
   "source": [
    "#How many Airbnb properties in Seattle\n",
    "total_properties = len(np.unique(df['id']))\n",
    "total_properties"
   ]
  },
  {
   "cell_type": "code",
   "execution_count": null,
   "metadata": {},
   "outputs": [],
   "source": [
    "#number of properties by neighborhood\n",
    "number_properties = pd.DataFrame(df.groupby(df['neighbourhood_cleansed'])['id'].count().sort_values(ascending = False))\n",
    "number_properties = number_properties.rename(columns = {'id': \"Number of properties\"}) \n",
    "number_properties"
   ]
  },
  {
   "cell_type": "code",
   "execution_count": null,
   "metadata": {},
   "outputs": [],
   "source": [
    "# number of properties in a few communities\n",
    "print(number_properties.loc[['Pike-Market', 'Alki', 'Fauntleroy', 'Highland Park', 'South Beacon Hill', 'South Park']])"
   ]
  },
  {
   "cell_type": "code",
   "execution_count": null,
   "metadata": {},
   "outputs": [],
   "source": [
    "# Market share by neighborhood\n",
    "proportion_properties = number_properties/number_properties.sum()\n",
    "proportion_properties = proportion_properties.rename(columns = {'id': 'proportion'})\n",
    "proportion_properties"
   ]
  },
  {
   "cell_type": "code",
   "execution_count": null,
   "metadata": {},
   "outputs": [],
   "source": [
    "# Market share for a few communities\n",
    "proportion_properties.loc[['Montlake', 'Westlake', 'South Lake Union', 'Madrona', 'East Queen Anne', 'North Beach/Blue Ridge', 'Belltown', 'West Queen Anne']]"
   ]
  },
  {
   "cell_type": "code",
   "execution_count": null,
   "metadata": {},
   "outputs": [],
   "source": [
    "# Market share for the top three communities\n",
    "proportion_properties.iloc[0:3].sum()"
   ]
  },
  {
   "cell_type": "markdown",
   "metadata": {},
   "source": [
    "## Question 2: Ten top rated neighbourhood by location"
   ]
  },
  {
   "cell_type": "code",
   "execution_count": null,
   "metadata": {},
   "outputs": [],
   "source": [
    "rating_by_neighbor = pd.DataFrame(df.groupby(df['neighbourhood_cleansed'])['review_scores_location'].mean().sort_values(ascending = False))\n",
    "rating_by_neighbor"
   ]
  },
  {
   "cell_type": "code",
   "execution_count": null,
   "metadata": {},
   "outputs": [],
   "source": [
    "#Concat rating and number of properties: how saturated the market is in the communities of 'good location'\n",
    "rating_properties = pd.merge(rating_by_neighbor, number_properties, on = 'neighbourhood_cleansed')\n",
    "rating_properties.iloc[0:11]"
   ]
  },
  {
   "cell_type": "markdown",
   "metadata": {},
   "source": [
    "# Data preparation for the calendar table"
   ]
  },
  {
   "cell_type": "code",
   "execution_count": null,
   "metadata": {},
   "outputs": [],
   "source": [
    "df1 = pd.read_csv('C:/Users/Nancy Zhao/Desktop/Nano degrees/Data science/CRISP-DM/data science blog post/calendar.csv')\n",
    "df1.info()"
   ]
  },
  {
   "cell_type": "markdown",
   "metadata": {},
   "source": [
    "## Truncate date by month"
   ]
  },
  {
   "cell_type": "code",
   "execution_count": null,
   "metadata": {},
   "outputs": [],
   "source": [
    "df1['date_trans'] = pd.to_datetime(df1['date'])\n",
    "df1['date_month'] = df1['date_trans'].apply(lambda x: x.strftime('%m'))\n",
    "len(df1['date_trans']) # 1393570 entries in total"
   ]
  },
  {
   "cell_type": "markdown",
   "metadata": {},
   "source": [
    "## Question 3  Occupancy rate and monthly revenue by neighbourhood in 2016"
   ]
  },
  {
   "cell_type": "markdown",
   "metadata": {},
   "source": [
    "## Slice the data of 2016 and convert 'available' from \"t and f\" to \"0 and 1\""
   ]
  },
  {
   "cell_type": "code",
   "execution_count": null,
   "metadata": {},
   "outputs": [],
   "source": [
    "df1 = df1[(df1['date_trans'] >= pd.datetime(2016,1,1)) & (df1['date_trans'] <= pd.datetime(2016,12,31))]\n",
    "df1['available_bool'] = np.where(df1['available'].str.contains('f'), 1,0)"
   ]
  },
  {
   "cell_type": "markdown",
   "metadata": {},
   "source": [
    "## Merge the listing table and the calendar table by id"
   ]
  },
  {
   "cell_type": "code",
   "execution_count": null,
   "metadata": {},
   "outputs": [],
   "source": [
    "df2 = pd.merge(df, df1, left_on = 'id', right_on = 'listing_id')\n",
    "df2.head()"
   ]
  },
  {
   "cell_type": "markdown",
   "metadata": {},
   "source": [
    "## Calculate the occupancy rate by neighbourhood"
   ]
  },
  {
   "cell_type": "code",
   "execution_count": null,
   "metadata": {},
   "outputs": [],
   "source": [
    "occupancy_neighbour = df2.groupby(df2['neighbourhood_cleansed'])['available_bool'].sum()\n",
    "total_neighbour = df2.groupby(df2['neighbourhood_cleansed'])['available_bool'].count()\n",
    "occupancy_rate_neighbour = occupancy_neighbour / total_neighbour\n",
    "occupancy_rate_neighbour.sort_values(ascending = False)"
   ]
  },
  {
   "cell_type": "markdown",
   "metadata": {},
   "source": [
    "## Calculate the average price by neighbourhood"
   ]
  },
  {
   "cell_type": "code",
   "execution_count": null,
   "metadata": {},
   "outputs": [],
   "source": [
    "price_by_neighbor = df2.groupby(df2['neighbourhood_cleansed'])['price_val'].mean()\n",
    "price_by_neighbor.sort_values(ascending = False)"
   ]
  },
  {
   "cell_type": "code",
   "execution_count": null,
   "metadata": {},
   "outputs": [],
   "source": [
    "#Get prices for a few communities\n",
    "price_by_neighbor.loc[['Pike-Market', 'Alki', 'Fauntleroy']]"
   ]
  },
  {
   "cell_type": "markdown",
   "metadata": {},
   "source": [
    "## Calculate monthly reveunue by neighbourhood"
   ]
  },
  {
   "cell_type": "code",
   "execution_count": null,
   "metadata": {},
   "outputs": [],
   "source": [
    "monthly_income_neighbour = 30*occupancy_rate_neighbour*price_by_neighbor\n",
    "monthly_income_neighbour = pd.DataFrame(monthly_income_neighbour.sort_values(ascending = False))\n",
    "monthly_income_neighbour = monthly_income_neighbour.rename(columns = {0: 'monthly revenue'})\n",
    "monthly_income_neighbour"
   ]
  },
  {
   "cell_type": "markdown",
   "metadata": {},
   "source": [
    "## Bar plot the five most profitable Airbnb properties by neighborhood"
   ]
  },
  {
   "cell_type": "code",
   "execution_count": null,
   "metadata": {},
   "outputs": [],
   "source": [
    "g_income = monthly_income_neighbour.head(n=5)\n",
    "g_income.info()\n",
    "g_income.plot.bar()"
   ]
  },
  {
   "cell_type": "code",
   "execution_count": null,
   "metadata": {},
   "outputs": [],
   "source": [
    "#Get monthly revenue for a few communities\n",
    "monthly_income_neighbour.loc[['Broadway', 'Belltown', 'Wallingford', 'Pike-Market', 'Alki', 'Fauntleroy']]"
   ]
  },
  {
   "cell_type": "code",
   "execution_count": null,
   "metadata": {},
   "outputs": [],
   "source": [
    "#Merge revenue and proportion to see: how profitable the properties are by neighbourhood? How saturated the market is? (Any potential for market entry)\n",
    "revenue_proportion = pd.merge(monthly_income_neighbour, proportion_properties, on = 'neighbourhood_cleansed')\n",
    "revenue_proportion"
   ]
  },
  {
   "cell_type": "markdown",
   "metadata": {},
   "source": [
    "## Question 4:  Monthly revenue by property type"
   ]
  },
  {
   "cell_type": "markdown",
   "metadata": {},
   "source": [
    "## Occupancy rate by property"
   ]
  },
  {
   "cell_type": "code",
   "execution_count": null,
   "metadata": {},
   "outputs": [],
   "source": [
    "occupancy_property = df2.groupby(df2['property_type'])['available_bool'].sum()\n",
    "total_property = df2.groupby(df2['property_type'])['available_bool'].count()\n",
    "occupancy_rate_property = occupancy_property / total_property\n",
    "occupancy_rate_property1 = pd.DataFrame(occupancy_rate_property.sort_values(ascending = False))\n",
    "occupancy_rate_property1 = occupancy_rate_property1.rename(columns = {'available_bool' : 'occupancy rate'})\n",
    "occupancy_rate_property1"
   ]
  },
  {
   "cell_type": "markdown",
   "metadata": {},
   "source": [
    "## Average price by property"
   ]
  },
  {
   "cell_type": "code",
   "execution_count": null,
   "metadata": {},
   "outputs": [],
   "source": [
    "avg_price_property = df2.groupby(df2['property_type'])['price_val'].mean().sort_values(ascending = False)\n",
    "avg_price_property1 = pd.DataFrame(avg_price_property )\n",
    "avg_price_property1 = avg_price_property1.rename(columns = {'price_val' : 'price per night'})\n",
    "avg_price_property1"
   ]
  },
  {
   "cell_type": "markdown",
   "metadata": {},
   "source": [
    "## Monthly revenue by property"
   ]
  },
  {
   "cell_type": "code",
   "execution_count": null,
   "metadata": {},
   "outputs": [],
   "source": [
    "monthly_income_property = 30*occupancy_rate_property*avg_price_property\n",
    "monthly_income_property = pd.DataFrame(monthly_income_property.sort_values(ascending = False))\n",
    "monthly_income_property = monthly_income_property.rename(columns = {0 : 'monthly revenue'})\n",
    "monthly_income_property"
   ]
  },
  {
   "cell_type": "code",
   "execution_count": null,
   "metadata": {},
   "outputs": [],
   "source": [
    "#merge monthly revenue, price, occupancy rate by property for better presentation\n",
    "revenue_property = pd.merge(pd.merge(monthly_income_property,avg_price_property1,on = 'property_type'), occupancy_rate_property1, on = 'property_type')\n",
    "revenue_property"
   ]
  },
  {
   "cell_type": "markdown",
   "metadata": {},
   "source": [
    "## Bar plot monthly revenue by property type"
   ]
  },
  {
   "cell_type": "code",
   "execution_count": null,
   "metadata": {},
   "outputs": [],
   "source": [
    "monthly_bar = sns.barplot(monthly_income_property.index, monthly_income_property.values)\n",
    "monthly_bar.set_xticklabels(monthly_bar.get_xticklabels(), rotation = 90)"
   ]
  },
  {
   "cell_type": "code",
   "execution_count": null,
   "metadata": {},
   "outputs": [],
   "source": []
  }
 ],
 "metadata": {
  "kernelspec": {
   "display_name": "Python 3",
   "language": "python",
   "name": "python3"
  },
  "language_info": {
   "codemirror_mode": {
    "name": "ipython",
    "version": 3
   },
   "file_extension": ".py",
   "mimetype": "text/x-python",
   "name": "python",
   "nbconvert_exporter": "python",
   "pygments_lexer": "ipython3",
   "version": "3.7.3"
  }
 },
 "nbformat": 4,
 "nbformat_minor": 2
}
